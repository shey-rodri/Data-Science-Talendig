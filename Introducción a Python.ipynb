{
 "cells": [
  {
   "cell_type": "markdown",
   "id": "6acc2b8c",
   "metadata": {},
   "source": [
    "# Introducción a Python"
   ]
  },
  {
   "cell_type": "code",
   "execution_count": 1,
   "id": "7eec93bc",
   "metadata": {},
   "outputs": [
    {
     "name": "stdout",
     "output_type": "stream",
     "text": [
      "Requirement already satisfied: Pandoc in /Users/sheylarodriguez/anaconda3/lib/python3.11/site-packages (2.3)\r\n",
      "Requirement already satisfied: plumbum in /Users/sheylarodriguez/anaconda3/lib/python3.11/site-packages (from Pandoc) (1.8.3)\r\n",
      "Requirement already satisfied: ply in /Users/sheylarodriguez/anaconda3/lib/python3.11/site-packages (from Pandoc) (3.11)\r\n"
     ]
    }
   ],
   "source": [
    "!pip install Pandoc"
   ]
  },
  {
   "cell_type": "markdown",
   "id": "4d32bb5e",
   "metadata": {},
   "source": [
    "# Los temas a tratar en el dia de hoy son los siguientes:\n",
    "\n",
    "* Estructuras de Datos \n",
    "     * Numeros \n",
    "     * Textos \n",
    "     * Printing \n",
    "     * Listas \n",
    "     * Diccionarios \n",
    "     * Booleans \n",
    "     * Tuplas \n",
    "     * Sets \n",
    "* Operadores de compración\n",
    "* if, elif, else \n",
    "* for Loops \n",
    "* while Loops\n",
    "* Listas comprensivas \n",
    "* Funciones \n",
    "* Expresiones lambda\n",
    "* map y filter \n",
    "* metodos"
   ]
  },
  {
   "cell_type": "markdown",
   "id": "b7faef8f",
   "metadata": {},
   "source": [
    "# Tipos Datos "
   ]
  },
  {
   "cell_type": "code",
   "execution_count": null,
   "id": "b7011877",
   "metadata": {},
   "outputs": [],
   "source": [
    "2 + 5"
   ]
  },
  {
   "cell_type": "code",
   "execution_count": 16,
   "id": "fb9a868c",
   "metadata": {},
   "outputs": [
    {
     "data": {
      "text/plain": [
       "12"
      ]
     },
     "execution_count": 16,
     "metadata": {},
     "output_type": "execute_result"
    }
   ],
   "source": [
    "2 * 6"
   ]
  },
  {
   "cell_type": "code",
   "execution_count": 17,
   "id": "e8d277ab",
   "metadata": {},
   "outputs": [
    {
     "data": {
      "text/plain": [
       "2.0"
      ]
     },
     "execution_count": 17,
     "metadata": {},
     "output_type": "execute_result"
    }
   ],
   "source": [
    "4/2"
   ]
  },
  {
   "cell_type": "code",
   "execution_count": 18,
   "id": "53e0db65",
   "metadata": {},
   "outputs": [
    {
     "data": {
      "text/plain": [
       "16"
      ]
     },
     "execution_count": 18,
     "metadata": {},
     "output_type": "execute_result"
    }
   ],
   "source": [
    "2 ** 4"
   ]
  },
  {
   "cell_type": "code",
   "execution_count": 19,
   "id": "0d60a63e",
   "metadata": {},
   "outputs": [
    {
     "data": {
      "text/plain": [
       "0"
      ]
     },
     "execution_count": 19,
     "metadata": {},
     "output_type": "execute_result"
    }
   ],
   "source": [
    "4 % 2"
   ]
  },
  {
   "cell_type": "code",
   "execution_count": 21,
   "id": "feaf2d36",
   "metadata": {},
   "outputs": [
    {
     "data": {
      "text/plain": [
       "1"
      ]
     },
     "execution_count": 21,
     "metadata": {},
     "output_type": "execute_result"
    }
   ],
   "source": [
    "5 % 2"
   ]
  },
  {
   "cell_type": "code",
   "execution_count": 22,
   "id": "4b69f2b5",
   "metadata": {},
   "outputs": [
    {
     "data": {
      "text/plain": [
       "2"
      ]
     },
     "execution_count": 22,
     "metadata": {},
     "output_type": "execute_result"
    }
   ],
   "source": [
    "4 // 2"
   ]
  },
  {
   "cell_type": "code",
   "execution_count": 23,
   "id": "10576387",
   "metadata": {},
   "outputs": [
    {
     "data": {
      "text/plain": [
       "50"
      ]
     },
     "execution_count": 23,
     "metadata": {},
     "output_type": "execute_result"
    }
   ],
   "source": [
    "(2 + 3) * (5 + 5)"
   ]
  },
  {
   "cell_type": "markdown",
   "id": "f8144fc1",
   "metadata": {},
   "source": [
    "### Creacion de variables"
   ]
  },
  {
   "cell_type": "code",
   "execution_count": 25,
   "id": "f5200d1d",
   "metadata": {},
   "outputs": [],
   "source": [
    "#no pueden nombrar una variable con numeros o caracteres especiales \n",
    "nombre_variable = 2"
   ]
  },
  {
   "cell_type": "code",
   "execution_count": 26,
   "id": "35742bde",
   "metadata": {},
   "outputs": [
    {
     "data": {
      "text/plain": [
       "2"
      ]
     },
     "execution_count": 26,
     "metadata": {},
     "output_type": "execute_result"
    }
   ],
   "source": [
    "nombre_variable"
   ]
  },
  {
   "cell_type": "code",
   "execution_count": 40,
   "id": "01568f17",
   "metadata": {},
   "outputs": [],
   "source": [
    "x = 4\n",
    "y = 4"
   ]
  },
  {
   "cell_type": "code",
   "execution_count": 42,
   "id": "77b1c27d",
   "metadata": {},
   "outputs": [],
   "source": [
    "Z = x + y "
   ]
  },
  {
   "cell_type": "code",
   "execution_count": 44,
   "id": "0a1f4cef",
   "metadata": {
    "scrolled": true
   },
   "outputs": [
    {
     "data": {
      "text/plain": [
       "6"
      ]
     },
     "execution_count": 44,
     "metadata": {},
     "output_type": "execute_result"
    }
   ],
   "source": [
    "z"
   ]
  },
  {
   "cell_type": "code",
   "execution_count": 43,
   "id": "8d05e519",
   "metadata": {},
   "outputs": [
    {
     "data": {
      "text/plain": [
       "8"
      ]
     },
     "execution_count": 43,
     "metadata": {},
     "output_type": "execute_result"
    }
   ],
   "source": [
    "Z"
   ]
  },
  {
   "cell_type": "markdown",
   "id": "2b80f461",
   "metadata": {},
   "source": [
    "### Textos(string)"
   ]
  },
  {
   "cell_type": "code",
   "execution_count": 47,
   "id": "ebd11d2f",
   "metadata": {},
   "outputs": [
    {
     "data": {
      "text/plain": [
       "'comillas simples'"
      ]
     },
     "execution_count": 47,
     "metadata": {},
     "output_type": "execute_result"
    }
   ],
   "source": [
    "'comillas simples'"
   ]
  },
  {
   "cell_type": "code",
   "execution_count": 49,
   "id": "fa509b8e",
   "metadata": {},
   "outputs": [
    {
     "data": {
      "text/plain": [
       "'comillas dobles'"
      ]
     },
     "execution_count": 49,
     "metadata": {},
     "output_type": "execute_result"
    }
   ],
   "source": [
    "\"comillas dobles\""
   ]
  },
  {
   "cell_type": "markdown",
   "id": "c8e3b83a",
   "metadata": {},
   "source": [
    "# Printeando"
   ]
  },
  {
   "cell_type": "code",
   "execution_count": 50,
   "id": "d90b54f5",
   "metadata": {},
   "outputs": [
    {
     "name": "stdout",
     "output_type": "stream",
     "text": [
      "comillas simples\n"
     ]
    }
   ],
   "source": [
    "print('comillas simples')"
   ]
  },
  {
   "cell_type": "code",
   "execution_count": 51,
   "id": "888b4b63",
   "metadata": {
    "scrolled": true
   },
   "outputs": [
    {
     "name": "stdout",
     "output_type": "stream",
     "text": [
      "comillas dobles\n"
     ]
    }
   ],
   "source": [
    "print(\"comillas dobles\")"
   ]
  },
  {
   "cell_type": "code",
   "execution_count": 53,
   "id": "d76d9a14",
   "metadata": {},
   "outputs": [],
   "source": [
    "x = \"hola\""
   ]
  },
  {
   "cell_type": "code",
   "execution_count": 54,
   "id": "90ea7f89",
   "metadata": {},
   "outputs": [
    {
     "name": "stdout",
     "output_type": "stream",
     "text": [
      "hola\n"
     ]
    }
   ],
   "source": [
    "print(x)"
   ]
  },
  {
   "cell_type": "code",
   "execution_count": 56,
   "id": "afc4a722",
   "metadata": {},
   "outputs": [],
   "source": [
    "num = 12\n",
    "nombre = \"Sheyla\""
   ]
  },
  {
   "cell_type": "code",
   "execution_count": 59,
   "id": "39565d91",
   "metadata": {},
   "outputs": [
    {
     "name": "stdout",
     "output_type": "stream",
     "text": [
      "Mi numero es: 12, y mi nombre es: Sheyla\n"
     ]
    }
   ],
   "source": [
    "#agregandole valores de variables a un texto \n",
    "print('Mi numero es: {uno}, y mi nombre es: {dos}'.format(uno=num,dos=nombre))"
   ]
  },
  {
   "cell_type": "code",
   "execution_count": 62,
   "id": "9b102a5f",
   "metadata": {},
   "outputs": [
    {
     "name": "stdout",
     "output_type": "stream",
     "text": [
      "Mi numero es: 12, y mi nombre es: Sheyla\n"
     ]
    }
   ],
   "source": [
    "print('Mi numero es: {}, y mi nombre es: {}'.format(num,nombre))"
   ]
  },
  {
   "cell_type": "markdown",
   "id": "6602f10f",
   "metadata": {},
   "source": [
    "## Ejercicio "
   ]
  },
  {
   "cell_type": "markdown",
   "id": "852253fa",
   "metadata": {},
   "source": [
    "* Crea 3 variables, una con tu nombre, otra con el sector donde vives y otra con el tiempo que tienes viviendo ahí\n",
    "* Printeala estas infomaciones con una una oracion por ejemplo: Mi nombre es Sheyla vivo en la Indepencia y tengo 2 años "
   ]
  },
  {
   "cell_type": "markdown",
   "id": "b5b11366",
   "metadata": {},
   "source": [
    "## Lista \n",
    "\n",
    "En las listas se almacenan elementos, pueden ser: numeros, textos, arreglos, dataframes, otras listas y mas "
   ]
  },
  {
   "cell_type": "code",
   "execution_count": 64,
   "id": "5a29bcdb",
   "metadata": {},
   "outputs": [
    {
     "data": {
      "text/plain": [
       "[1, 2, 3]"
      ]
     },
     "execution_count": 64,
     "metadata": {},
     "output_type": "execute_result"
    }
   ],
   "source": [
    "[1,2,3]"
   ]
  },
  {
   "cell_type": "code",
   "execution_count": 65,
   "id": "0003604d",
   "metadata": {},
   "outputs": [
    {
     "data": {
      "text/plain": [
       "['hola', 1, [1, 2]]"
      ]
     },
     "execution_count": 65,
     "metadata": {},
     "output_type": "execute_result"
    }
   ],
   "source": [
    "[\"hola\",1,[1,2]]"
   ]
  },
  {
   "cell_type": "code",
   "execution_count": 76,
   "id": "d4a5ee3e",
   "metadata": {},
   "outputs": [],
   "source": [
    "#creando una variable tipo lista\n",
    "mi_lista = ['a','b','c']"
   ]
  },
  {
   "cell_type": "code",
   "execution_count": 68,
   "id": "2ab05f51",
   "metadata": {},
   "outputs": [
    {
     "data": {
      "text/plain": [
       "['a', 'b', 'c']"
      ]
     },
     "execution_count": 68,
     "metadata": {},
     "output_type": "execute_result"
    }
   ],
   "source": [
    "mi_lista"
   ]
  },
  {
   "cell_type": "code",
   "execution_count": 79,
   "id": "5300935f",
   "metadata": {},
   "outputs": [],
   "source": [
    "#agregar elementos a una lista ya creada\n",
    "mi_lista.append('d')"
   ]
  },
  {
   "cell_type": "code",
   "execution_count": 80,
   "id": "81725f91",
   "metadata": {},
   "outputs": [
    {
     "name": "stdout",
     "output_type": "stream",
     "text": [
      "['a', 'b', 'c', 'd', 'd']\n"
     ]
    }
   ],
   "source": [
    "print(mi_lista)"
   ]
  },
  {
   "cell_type": "code",
   "execution_count": 83,
   "id": "6a173619",
   "metadata": {},
   "outputs": [],
   "source": [
    "#accediendo a los elementos de una lista "
   ]
  },
  {
   "cell_type": "code",
   "execution_count": 84,
   "id": "2c0b5643",
   "metadata": {},
   "outputs": [],
   "source": [
    "mi_lista = [\"hola\",1,[1,2]]"
   ]
  },
  {
   "cell_type": "code",
   "execution_count": 86,
   "id": "cb2dd46a",
   "metadata": {},
   "outputs": [
    {
     "data": {
      "text/plain": [
       "'hola'"
      ]
     },
     "execution_count": 86,
     "metadata": {},
     "output_type": "execute_result"
    }
   ],
   "source": [
    "mi_lista[0]"
   ]
  },
  {
   "cell_type": "code",
   "execution_count": 87,
   "id": "d8475c79",
   "metadata": {},
   "outputs": [
    {
     "data": {
      "text/plain": [
       "[1, 2]"
      ]
     },
     "execution_count": 87,
     "metadata": {},
     "output_type": "execute_result"
    }
   ],
   "source": [
    "mi_lista[2]"
   ]
  },
  {
   "cell_type": "code",
   "execution_count": 88,
   "id": "18f1e9dc",
   "metadata": {},
   "outputs": [
    {
     "data": {
      "text/plain": [
       "1"
      ]
     },
     "execution_count": 88,
     "metadata": {},
     "output_type": "execute_result"
    }
   ],
   "source": [
    "mi_lista[-2]"
   ]
  },
  {
   "cell_type": "code",
   "execution_count": 90,
   "id": "3adf0ec8",
   "metadata": {},
   "outputs": [
    {
     "data": {
      "text/plain": [
       "2"
      ]
     },
     "execution_count": 90,
     "metadata": {},
     "output_type": "execute_result"
    }
   ],
   "source": [
    "mi_lista[2][1]"
   ]
  },
  {
   "cell_type": "code",
   "execution_count": null,
   "id": "0ef5e1a6",
   "metadata": {},
   "outputs": [],
   "source": [
    "#Opciones de eliminar un elemento especifico de la lista\n",
    "del mi_lista[n]"
   ]
  },
  {
   "cell_type": "markdown",
   "id": "64f107ab",
   "metadata": {},
   "source": [
    "## Ejercicio "
   ]
  },
  {
   "cell_type": "markdown",
   "id": "cdbe41e9",
   "metadata": {},
   "source": [
    "* Crear una lista llamada mi_lista_ejercicio con los siguientes elementos: 5, 8 y una lista con las letras a, b,c "
   ]
  },
  {
   "cell_type": "markdown",
   "id": "30fa6e22",
   "metadata": {},
   "source": [
    "## Diccionarios "
   ]
  },
  {
   "cell_type": "markdown",
   "id": "4ed55f43",
   "metadata": {},
   "source": [
    "A diferencia de las listas, los diccionarios tienen una llave para cada elementos y se acceden a los elementos en base a su llave"
   ]
  },
  {
   "cell_type": "code",
   "execution_count": 93,
   "id": "501f3c3b",
   "metadata": {},
   "outputs": [
    {
     "data": {
      "text/plain": [
       "{'llave1': 'elemento1', 'llave2': 'elemento1'}"
      ]
     },
     "execution_count": 93,
     "metadata": {},
     "output_type": "execute_result"
    }
   ],
   "source": [
    "d = {'llave1':'elemento1','llave2':'elemento1'}\n",
    "d"
   ]
  },
  {
   "cell_type": "code",
   "execution_count": 99,
   "id": "9906543a",
   "metadata": {},
   "outputs": [
    {
     "data": {
      "text/plain": [
       "'elemento1'"
      ]
     },
     "execution_count": 99,
     "metadata": {},
     "output_type": "execute_result"
    }
   ],
   "source": [
    "d['llave2']"
   ]
  },
  {
   "cell_type": "code",
   "execution_count": 95,
   "id": "8cf05c95",
   "metadata": {},
   "outputs": [
    {
     "data": {
      "text/plain": [
       "dict_keys(['llave1', 'llave2'])"
      ]
     },
     "execution_count": 95,
     "metadata": {},
     "output_type": "execute_result"
    }
   ],
   "source": [
    "d.keys()"
   ]
  },
  {
   "cell_type": "code",
   "execution_count": 96,
   "id": "b447b8dd",
   "metadata": {},
   "outputs": [
    {
     "data": {
      "text/plain": [
       "dict_items([('llave1', 'elemento1'), ('llave2', 'elemento1')])"
      ]
     },
     "execution_count": 96,
     "metadata": {},
     "output_type": "execute_result"
    }
   ],
   "source": [
    "d.items()"
   ]
  },
  {
   "cell_type": "code",
   "execution_count": 100,
   "id": "fb551ebe",
   "metadata": {},
   "outputs": [],
   "source": [
    "d = {'llave1':1,'llave2':'elemento1'}"
   ]
  },
  {
   "cell_type": "markdown",
   "id": "11644ee8",
   "metadata": {},
   "source": [
    "### Ejercicios \n",
    "* Crear un diccionario llamado mi_diccionario_ejercicio y agregue 3 llaves:llave1, llave2, llave3\n",
    "* A la llave 1 agreguele una lista con el numero 7 y la letra X\n",
    "* A la llave 2 agreguele una lista con los numeros 5 y 7 \n",
    "* A la llave 3 agreguele una lista con la letra H y el numero 3 \n",
    "* Una vez creado el diccionario acceda al numero 3 "
   ]
  },
  {
   "cell_type": "markdown",
   "id": "67a3cc99",
   "metadata": {},
   "source": [
    "# Bonus!!\n",
    "* Cambiar el tema a obscuro "
   ]
  },
  {
   "cell_type": "markdown",
   "id": "3ba653ba",
   "metadata": {},
   "source": [
    "### 1ero instalar la libreria"
   ]
  },
  {
   "cell_type": "code",
   "execution_count": 16,
   "id": "f5a9e433",
   "metadata": {
    "scrolled": true
   },
   "outputs": [
    {
     "name": "stdout",
     "output_type": "stream",
     "text": [
      "Collecting jupyterthemes\n",
      "  Obtaining dependency information for jupyterthemes from https://files.pythonhosted.org/packages/8a/08/9dee6dfd7f2aad6c30282d55c8f495b4dc1e4747b4e2bdbeb80572ddf312/jupyterthemes-0.20.0-py2.py3-none-any.whl.metadata\n",
      "  Downloading jupyterthemes-0.20.0-py2.py3-none-any.whl.metadata (1.0 kB)\n",
      "Requirement already satisfied: jupyter-core in ./anaconda3/lib/python3.11/site-packages (from jupyterthemes) (5.3.0)\n",
      "Requirement already satisfied: notebook>=5.6.0 in ./anaconda3/lib/python3.11/site-packages (from jupyterthemes) (6.5.4)\n",
      "Requirement already satisfied: ipython>=5.4.1 in ./anaconda3/lib/python3.11/site-packages (from jupyterthemes) (8.15.0)\n",
      "Requirement already satisfied: matplotlib>=1.4.3 in ./anaconda3/lib/python3.11/site-packages (from jupyterthemes) (3.7.2)\n",
      "Collecting lesscpy>=0.11.2 (from jupyterthemes)\n",
      "  Obtaining dependency information for lesscpy>=0.11.2 from https://files.pythonhosted.org/packages/2a/da/4a20ba69c9c71ce3d522da5a3c617254d1d1430b71f52b7d46dbf2c06b96/lesscpy-0.15.1-py2.py3-none-any.whl.metadata\n",
      "  Downloading lesscpy-0.15.1-py2.py3-none-any.whl.metadata (6.0 kB)\n",
      "Requirement already satisfied: backcall in ./anaconda3/lib/python3.11/site-packages (from ipython>=5.4.1->jupyterthemes) (0.2.0)\n",
      "Requirement already satisfied: decorator in ./anaconda3/lib/python3.11/site-packages (from ipython>=5.4.1->jupyterthemes) (5.1.1)\n",
      "Requirement already satisfied: jedi>=0.16 in ./anaconda3/lib/python3.11/site-packages (from ipython>=5.4.1->jupyterthemes) (0.18.1)\n",
      "Requirement already satisfied: matplotlib-inline in ./anaconda3/lib/python3.11/site-packages (from ipython>=5.4.1->jupyterthemes) (0.1.6)\n",
      "Requirement already satisfied: pickleshare in ./anaconda3/lib/python3.11/site-packages (from ipython>=5.4.1->jupyterthemes) (0.7.5)\n",
      "Requirement already satisfied: prompt-toolkit!=3.0.37,<3.1.0,>=3.0.30 in ./anaconda3/lib/python3.11/site-packages (from ipython>=5.4.1->jupyterthemes) (3.0.36)\n",
      "Requirement already satisfied: pygments>=2.4.0 in ./anaconda3/lib/python3.11/site-packages (from ipython>=5.4.1->jupyterthemes) (2.15.1)\n",
      "Requirement already satisfied: stack-data in ./anaconda3/lib/python3.11/site-packages (from ipython>=5.4.1->jupyterthemes) (0.2.0)\n",
      "Requirement already satisfied: traitlets>=5 in ./anaconda3/lib/python3.11/site-packages (from ipython>=5.4.1->jupyterthemes) (5.7.1)\n",
      "Requirement already satisfied: pexpect>4.3 in ./anaconda3/lib/python3.11/site-packages (from ipython>=5.4.1->jupyterthemes) (4.8.0)\n",
      "Requirement already satisfied: appnope in ./anaconda3/lib/python3.11/site-packages (from ipython>=5.4.1->jupyterthemes) (0.1.2)\n",
      "Requirement already satisfied: ply in ./anaconda3/lib/python3.11/site-packages (from lesscpy>=0.11.2->jupyterthemes) (3.11)\n",
      "Requirement already satisfied: contourpy>=1.0.1 in ./anaconda3/lib/python3.11/site-packages (from matplotlib>=1.4.3->jupyterthemes) (1.0.5)\n",
      "Requirement already satisfied: cycler>=0.10 in ./anaconda3/lib/python3.11/site-packages (from matplotlib>=1.4.3->jupyterthemes) (0.11.0)\n",
      "Requirement already satisfied: fonttools>=4.22.0 in ./anaconda3/lib/python3.11/site-packages (from matplotlib>=1.4.3->jupyterthemes) (4.25.0)\n",
      "Requirement already satisfied: kiwisolver>=1.0.1 in ./anaconda3/lib/python3.11/site-packages (from matplotlib>=1.4.3->jupyterthemes) (1.4.4)\n",
      "Requirement already satisfied: numpy>=1.20 in ./anaconda3/lib/python3.11/site-packages (from matplotlib>=1.4.3->jupyterthemes) (1.24.3)\n",
      "Requirement already satisfied: packaging>=20.0 in ./anaconda3/lib/python3.11/site-packages (from matplotlib>=1.4.3->jupyterthemes) (23.1)\n",
      "Requirement already satisfied: pillow>=6.2.0 in ./anaconda3/lib/python3.11/site-packages (from matplotlib>=1.4.3->jupyterthemes) (9.4.0)\n",
      "Requirement already satisfied: pyparsing<3.1,>=2.3.1 in ./anaconda3/lib/python3.11/site-packages (from matplotlib>=1.4.3->jupyterthemes) (3.0.9)\n",
      "Requirement already satisfied: python-dateutil>=2.7 in ./anaconda3/lib/python3.11/site-packages (from matplotlib>=1.4.3->jupyterthemes) (2.8.2)\n",
      "Requirement already satisfied: jinja2 in ./anaconda3/lib/python3.11/site-packages (from notebook>=5.6.0->jupyterthemes) (3.1.2)\n",
      "Requirement already satisfied: tornado>=6.1 in ./anaconda3/lib/python3.11/site-packages (from notebook>=5.6.0->jupyterthemes) (6.3.2)\n",
      "Requirement already satisfied: pyzmq>=17 in ./anaconda3/lib/python3.11/site-packages (from notebook>=5.6.0->jupyterthemes) (23.2.0)\n",
      "Requirement already satisfied: argon2-cffi in ./anaconda3/lib/python3.11/site-packages (from notebook>=5.6.0->jupyterthemes) (21.3.0)\n",
      "Requirement already satisfied: jupyter-client>=5.3.4 in ./anaconda3/lib/python3.11/site-packages (from notebook>=5.6.0->jupyterthemes) (7.4.9)\n",
      "Requirement already satisfied: ipython-genutils in ./anaconda3/lib/python3.11/site-packages (from notebook>=5.6.0->jupyterthemes) (0.2.0)\n",
      "Requirement already satisfied: nbformat in ./anaconda3/lib/python3.11/site-packages (from notebook>=5.6.0->jupyterthemes) (5.9.2)\n",
      "Requirement already satisfied: nbconvert>=5 in ./anaconda3/lib/python3.11/site-packages (from notebook>=5.6.0->jupyterthemes) (6.5.4)\n",
      "Requirement already satisfied: nest-asyncio>=1.5 in ./anaconda3/lib/python3.11/site-packages (from notebook>=5.6.0->jupyterthemes) (1.5.6)\n",
      "Requirement already satisfied: ipykernel in ./anaconda3/lib/python3.11/site-packages (from notebook>=5.6.0->jupyterthemes) (6.25.0)\n",
      "Requirement already satisfied: Send2Trash>=1.8.0 in ./anaconda3/lib/python3.11/site-packages (from notebook>=5.6.0->jupyterthemes) (1.8.0)\n",
      "Requirement already satisfied: terminado>=0.8.3 in ./anaconda3/lib/python3.11/site-packages (from notebook>=5.6.0->jupyterthemes) (0.17.1)\n",
      "Requirement already satisfied: prometheus-client in ./anaconda3/lib/python3.11/site-packages (from notebook>=5.6.0->jupyterthemes) (0.14.1)\n",
      "Requirement already satisfied: nbclassic>=0.4.7 in ./anaconda3/lib/python3.11/site-packages (from notebook>=5.6.0->jupyterthemes) (0.5.5)\n",
      "Requirement already satisfied: platformdirs>=2.5 in ./anaconda3/lib/python3.11/site-packages (from jupyter-core->jupyterthemes) (3.10.0)\n",
      "Requirement already satisfied: parso<0.9.0,>=0.8.0 in ./anaconda3/lib/python3.11/site-packages (from jedi>=0.16->ipython>=5.4.1->jupyterthemes) (0.8.3)\n",
      "Requirement already satisfied: entrypoints in ./anaconda3/lib/python3.11/site-packages (from jupyter-client>=5.3.4->notebook>=5.6.0->jupyterthemes) (0.4)\n",
      "Requirement already satisfied: jupyter-server>=1.8 in ./anaconda3/lib/python3.11/site-packages (from nbclassic>=0.4.7->notebook>=5.6.0->jupyterthemes) (1.23.4)\n",
      "Requirement already satisfied: notebook-shim>=0.1.0 in ./anaconda3/lib/python3.11/site-packages (from nbclassic>=0.4.7->notebook>=5.6.0->jupyterthemes) (0.2.2)\n",
      "Requirement already satisfied: lxml in ./anaconda3/lib/python3.11/site-packages (from nbconvert>=5->notebook>=5.6.0->jupyterthemes) (4.9.3)\n",
      "Requirement already satisfied: beautifulsoup4 in ./anaconda3/lib/python3.11/site-packages (from nbconvert>=5->notebook>=5.6.0->jupyterthemes) (4.12.2)\n",
      "Requirement already satisfied: bleach in ./anaconda3/lib/python3.11/site-packages (from nbconvert>=5->notebook>=5.6.0->jupyterthemes) (4.1.0)\n",
      "Requirement already satisfied: defusedxml in ./anaconda3/lib/python3.11/site-packages (from nbconvert>=5->notebook>=5.6.0->jupyterthemes) (0.7.1)\n",
      "Requirement already satisfied: jupyterlab-pygments in ./anaconda3/lib/python3.11/site-packages (from nbconvert>=5->notebook>=5.6.0->jupyterthemes) (0.1.2)\n",
      "Requirement already satisfied: MarkupSafe>=2.0 in ./anaconda3/lib/python3.11/site-packages (from nbconvert>=5->notebook>=5.6.0->jupyterthemes) (2.1.1)\n",
      "Requirement already satisfied: mistune<2,>=0.8.1 in ./anaconda3/lib/python3.11/site-packages (from nbconvert>=5->notebook>=5.6.0->jupyterthemes) (0.8.4)\n",
      "Requirement already satisfied: nbclient>=0.5.0 in ./anaconda3/lib/python3.11/site-packages (from nbconvert>=5->notebook>=5.6.0->jupyterthemes) (0.5.13)\n",
      "Requirement already satisfied: pandocfilters>=1.4.1 in ./anaconda3/lib/python3.11/site-packages (from nbconvert>=5->notebook>=5.6.0->jupyterthemes) (1.5.0)\n",
      "Requirement already satisfied: tinycss2 in ./anaconda3/lib/python3.11/site-packages (from nbconvert>=5->notebook>=5.6.0->jupyterthemes) (1.2.1)\n",
      "Requirement already satisfied: fastjsonschema in ./anaconda3/lib/python3.11/site-packages (from nbformat->notebook>=5.6.0->jupyterthemes) (2.16.2)\n",
      "Requirement already satisfied: jsonschema>=2.6 in ./anaconda3/lib/python3.11/site-packages (from nbformat->notebook>=5.6.0->jupyterthemes) (4.17.3)\n",
      "Requirement already satisfied: ptyprocess>=0.5 in ./anaconda3/lib/python3.11/site-packages (from pexpect>4.3->ipython>=5.4.1->jupyterthemes) (0.7.0)\n",
      "Requirement already satisfied: wcwidth in ./anaconda3/lib/python3.11/site-packages (from prompt-toolkit!=3.0.37,<3.1.0,>=3.0.30->ipython>=5.4.1->jupyterthemes) (0.2.5)\n",
      "Requirement already satisfied: six>=1.5 in ./anaconda3/lib/python3.11/site-packages (from python-dateutil>=2.7->matplotlib>=1.4.3->jupyterthemes) (1.16.0)\n",
      "Requirement already satisfied: argon2-cffi-bindings in ./anaconda3/lib/python3.11/site-packages (from argon2-cffi->notebook>=5.6.0->jupyterthemes) (21.2.0)\n",
      "Requirement already satisfied: comm>=0.1.1 in ./anaconda3/lib/python3.11/site-packages (from ipykernel->notebook>=5.6.0->jupyterthemes) (0.1.2)\n",
      "Requirement already satisfied: debugpy>=1.6.5 in ./anaconda3/lib/python3.11/site-packages (from ipykernel->notebook>=5.6.0->jupyterthemes) (1.6.7)\n",
      "Requirement already satisfied: psutil in ./anaconda3/lib/python3.11/site-packages (from ipykernel->notebook>=5.6.0->jupyterthemes) (5.9.0)\n",
      "Requirement already satisfied: executing in ./anaconda3/lib/python3.11/site-packages (from stack-data->ipython>=5.4.1->jupyterthemes) (0.8.3)\n",
      "Requirement already satisfied: asttokens in ./anaconda3/lib/python3.11/site-packages (from stack-data->ipython>=5.4.1->jupyterthemes) (2.0.5)\n",
      "Requirement already satisfied: pure-eval in ./anaconda3/lib/python3.11/site-packages (from stack-data->ipython>=5.4.1->jupyterthemes) (0.2.2)\n",
      "Requirement already satisfied: attrs>=17.4.0 in ./anaconda3/lib/python3.11/site-packages (from jsonschema>=2.6->nbformat->notebook>=5.6.0->jupyterthemes) (22.1.0)\n",
      "Requirement already satisfied: pyrsistent!=0.17.0,!=0.17.1,!=0.17.2,>=0.14.0 in ./anaconda3/lib/python3.11/site-packages (from jsonschema>=2.6->nbformat->notebook>=5.6.0->jupyterthemes) (0.18.0)\n",
      "Requirement already satisfied: anyio<4,>=3.1.0 in ./anaconda3/lib/python3.11/site-packages (from jupyter-server>=1.8->nbclassic>=0.4.7->notebook>=5.6.0->jupyterthemes) (3.5.0)\n",
      "Requirement already satisfied: websocket-client in ./anaconda3/lib/python3.11/site-packages (from jupyter-server>=1.8->nbclassic>=0.4.7->notebook>=5.6.0->jupyterthemes) (0.58.0)\n",
      "Requirement already satisfied: cffi>=1.0.1 in ./anaconda3/lib/python3.11/site-packages (from argon2-cffi-bindings->argon2-cffi->notebook>=5.6.0->jupyterthemes) (1.15.1)\n",
      "Requirement already satisfied: soupsieve>1.2 in ./anaconda3/lib/python3.11/site-packages (from beautifulsoup4->nbconvert>=5->notebook>=5.6.0->jupyterthemes) (2.4)\n",
      "Requirement already satisfied: webencodings in ./anaconda3/lib/python3.11/site-packages (from bleach->nbconvert>=5->notebook>=5.6.0->jupyterthemes) (0.5.1)\n",
      "Requirement already satisfied: idna>=2.8 in ./anaconda3/lib/python3.11/site-packages (from anyio<4,>=3.1.0->jupyter-server>=1.8->nbclassic>=0.4.7->notebook>=5.6.0->jupyterthemes) (3.4)\n",
      "Requirement already satisfied: sniffio>=1.1 in ./anaconda3/lib/python3.11/site-packages (from anyio<4,>=3.1.0->jupyter-server>=1.8->nbclassic>=0.4.7->notebook>=5.6.0->jupyterthemes) (1.2.0)\n",
      "Requirement already satisfied: pycparser in ./anaconda3/lib/python3.11/site-packages (from cffi>=1.0.1->argon2-cffi-bindings->argon2-cffi->notebook>=5.6.0->jupyterthemes) (2.21)\n",
      "Downloading jupyterthemes-0.20.0-py2.py3-none-any.whl (7.0 MB)\n",
      "\u001b[2K   \u001b[90m━━━━━━━━━━━━━━━━━━━━━━━━━━━━━━━━━━━━━━━━\u001b[0m \u001b[32m7.0/7.0 MB\u001b[0m \u001b[31m2.4 MB/s\u001b[0m eta \u001b[36m0:00:00\u001b[0m00:01\u001b[0m00:01\u001b[0m\n",
      "\u001b[?25hDownloading lesscpy-0.15.1-py2.py3-none-any.whl (46 kB)\n",
      "\u001b[2K   \u001b[90m━━━━━━━━━━━━━━━━━━━━━━━━━━━━━━━━━━━━━━━━\u001b[0m \u001b[32m46.7/46.7 kB\u001b[0m \u001b[31m1.6 MB/s\u001b[0m eta \u001b[36m0:00:00\u001b[0m\n",
      "\u001b[?25hInstalling collected packages: lesscpy, jupyterthemes\n",
      "Successfully installed jupyterthemes-0.20.0 lesscpy-0.15.1\n"
     ]
    }
   ],
   "source": [
    "!pip install jupyterthemes "
   ]
  },
  {
   "cell_type": "markdown",
   "id": "152cba76",
   "metadata": {},
   "source": [
    "### 2do abrir una terminar de windows y ejecutar los siguientes comandos"
   ]
  },
  {
   "cell_type": "markdown",
   "id": "7e084b36",
   "metadata": {},
   "source": [
    "* Tipear: `jt -l` #enlista los temas disponibles \n",
    "* opcional: `jt -h` #enlista los comandos disponibles de lo que puedes hacer \n",
    "* `cd`+ la ruta de la carpeta donde esta el notebook de jupyter \n",
    "* Ejecutar: jupyther notebook #se estara ejecutando el notebook \n",
    "* Tipear: `jt -t oceans16` #oceans16 fue el tema que elegi por preferencia \n",
    "\n",
    "**Restaurar a los valores predeterminados** \n",
    "`jt -r`"
   ]
  },
  {
   "cell_type": "markdown",
   "id": "56cf926f",
   "metadata": {},
   "source": [
    "# Booleanos"
   ]
  },
  {
   "cell_type": "code",
   "execution_count": 1,
   "id": "32c3bbec",
   "metadata": {},
   "outputs": [
    {
     "data": {
      "text/plain": [
       "True"
      ]
     },
     "execution_count": 1,
     "metadata": {},
     "output_type": "execute_result"
    }
   ],
   "source": [
    "True "
   ]
  },
  {
   "cell_type": "code",
   "execution_count": 2,
   "id": "c9bd5956",
   "metadata": {},
   "outputs": [
    {
     "data": {
      "text/plain": [
       "False"
      ]
     },
     "execution_count": 2,
     "metadata": {},
     "output_type": "execute_result"
    }
   ],
   "source": [
    "False"
   ]
  },
  {
   "cell_type": "markdown",
   "id": "b824449c",
   "metadata": {},
   "source": [
    "# Tuplas\n",
    "La diferencia principal entre una tupla y una lista es que en las tuplas no puedo asignar valor. Las tuplas son **inmutables**"
   ]
  },
  {
   "cell_type": "code",
   "execution_count": 7,
   "id": "a740bd17",
   "metadata": {},
   "outputs": [],
   "source": [
    "a,b,c = (1,2,5)"
   ]
  },
  {
   "cell_type": "code",
   "execution_count": 4,
   "id": "07f1444b",
   "metadata": {},
   "outputs": [
    {
     "data": {
      "text/plain": [
       "1"
      ]
     },
     "execution_count": 4,
     "metadata": {},
     "output_type": "execute_result"
    }
   ],
   "source": [
    "a"
   ]
  },
  {
   "cell_type": "code",
   "execution_count": 5,
   "id": "e0c50eb0",
   "metadata": {},
   "outputs": [
    {
     "data": {
      "text/plain": [
       "2"
      ]
     },
     "execution_count": 5,
     "metadata": {},
     "output_type": "execute_result"
    }
   ],
   "source": [
    "b"
   ]
  },
  {
   "cell_type": "code",
   "execution_count": 8,
   "id": "58a9bdcd",
   "metadata": {},
   "outputs": [
    {
     "data": {
      "text/plain": [
       "5"
      ]
     },
     "execution_count": 8,
     "metadata": {},
     "output_type": "execute_result"
    }
   ],
   "source": [
    "c"
   ]
  },
  {
   "cell_type": "markdown",
   "id": "b8998671",
   "metadata": {},
   "source": [
    "# Operadores de comperacion "
   ]
  },
  {
   "cell_type": "code",
   "execution_count": 9,
   "id": "9db13391",
   "metadata": {},
   "outputs": [
    {
     "data": {
      "text/plain": [
       "False"
      ]
     },
     "execution_count": 9,
     "metadata": {},
     "output_type": "execute_result"
    }
   ],
   "source": [
    "1 > 2 "
   ]
  },
  {
   "cell_type": "code",
   "execution_count": 10,
   "id": "0d479284",
   "metadata": {},
   "outputs": [
    {
     "data": {
      "text/plain": [
       "True"
      ]
     },
     "execution_count": 10,
     "metadata": {},
     "output_type": "execute_result"
    }
   ],
   "source": [
    "1 < 2"
   ]
  },
  {
   "cell_type": "code",
   "execution_count": 11,
   "id": "95aed57f",
   "metadata": {},
   "outputs": [
    {
     "data": {
      "text/plain": [
       "True"
      ]
     },
     "execution_count": 11,
     "metadata": {},
     "output_type": "execute_result"
    }
   ],
   "source": [
    "1 >= 1 "
   ]
  },
  {
   "cell_type": "code",
   "execution_count": 12,
   "id": "2500c06e",
   "metadata": {},
   "outputs": [
    {
     "data": {
      "text/plain": [
       "True"
      ]
     },
     "execution_count": 12,
     "metadata": {},
     "output_type": "execute_result"
    }
   ],
   "source": [
    "1 <= 4"
   ]
  },
  {
   "cell_type": "code",
   "execution_count": 13,
   "id": "e912646b",
   "metadata": {},
   "outputs": [
    {
     "data": {
      "text/plain": [
       "True"
      ]
     },
     "execution_count": 13,
     "metadata": {},
     "output_type": "execute_result"
    }
   ],
   "source": [
    "1 == 1"
   ]
  },
  {
   "cell_type": "code",
   "execution_count": 15,
   "id": "062748b8",
   "metadata": {},
   "outputs": [
    {
     "data": {
      "text/plain": [
       "True"
      ]
     },
     "execution_count": 15,
     "metadata": {},
     "output_type": "execute_result"
    }
   ],
   "source": [
    "\"hola\" == \"hola\""
   ]
  },
  {
   "cell_type": "code",
   "execution_count": 16,
   "id": "3bdfb132",
   "metadata": {},
   "outputs": [
    {
     "data": {
      "text/plain": [
       "False"
      ]
     },
     "execution_count": 16,
     "metadata": {},
     "output_type": "execute_result"
    }
   ],
   "source": [
    "1 != 1"
   ]
  },
  {
   "cell_type": "code",
   "execution_count": 17,
   "id": "1ee25897",
   "metadata": {},
   "outputs": [
    {
     "data": {
      "text/plain": [
       "True"
      ]
     },
     "execution_count": 17,
     "metadata": {},
     "output_type": "execute_result"
    }
   ],
   "source": [
    "1 != 2"
   ]
  },
  {
   "cell_type": "markdown",
   "id": "a78e82e5",
   "metadata": {},
   "source": [
    "# Operacion Lógicos"
   ]
  },
  {
   "cell_type": "code",
   "execution_count": 18,
   "id": "fd4bd2b2",
   "metadata": {},
   "outputs": [
    {
     "data": {
      "text/plain": [
       "False"
      ]
     },
     "execution_count": 18,
     "metadata": {},
     "output_type": "execute_result"
    }
   ],
   "source": [
    "(1 > 2) and (2 < 3)"
   ]
  },
  {
   "cell_type": "code",
   "execution_count": 21,
   "id": "f99b68c4",
   "metadata": {},
   "outputs": [
    {
     "data": {
      "text/plain": [
       "True"
      ]
     },
     "execution_count": 21,
     "metadata": {},
     "output_type": "execute_result"
    }
   ],
   "source": [
    "(5 > 2) and (6 > 5)"
   ]
  },
  {
   "cell_type": "code",
   "execution_count": 23,
   "id": "7980b613",
   "metadata": {},
   "outputs": [
    {
     "data": {
      "text/plain": [
       "True"
      ]
     },
     "execution_count": 23,
     "metadata": {},
     "output_type": "execute_result"
    }
   ],
   "source": [
    "(1 > 2) or (2 > 1) "
   ]
  },
  {
   "cell_type": "code",
   "execution_count": 27,
   "id": "0f3fd428",
   "metadata": {},
   "outputs": [
    {
     "data": {
      "text/plain": [
       "True"
      ]
     },
     "execution_count": 27,
     "metadata": {},
     "output_type": "execute_result"
    }
   ],
   "source": [
    "#equivalente al or\n",
    "(1 > 2 ) | (2 < 3)"
   ]
  },
  {
   "cell_type": "code",
   "execution_count": 26,
   "id": "c1b802b6",
   "metadata": {},
   "outputs": [
    {
     "data": {
      "text/plain": [
       "True"
      ]
     },
     "execution_count": 26,
     "metadata": {},
     "output_type": "execute_result"
    }
   ],
   "source": [
    "(1==2) or (2==3) or (4==4)"
   ]
  },
  {
   "cell_type": "code",
   "execution_count": null,
   "id": "3dbae0f4",
   "metadata": {},
   "outputs": [],
   "source": [
    "#equivalente al or\n",
    "(1 == 2) | (2 == 3) | (4 == 4)"
   ]
  },
  {
   "cell_type": "markdown",
   "id": "25e8fbfc",
   "metadata": {},
   "source": [
    "# if, elif, else "
   ]
  },
  {
   "cell_type": "code",
   "execution_count": 29,
   "id": "af65b778",
   "metadata": {},
   "outputs": [
    {
     "name": "stdout",
     "output_type": "stream",
     "text": [
      "hip hip hurra!!\n"
     ]
    }
   ],
   "source": [
    "if 1 < 2:\n",
    "    print(\"hip hip hurra!!\")"
   ]
  },
  {
   "cell_type": "code",
   "execution_count": 31,
   "id": "33b0133c",
   "metadata": {},
   "outputs": [
    {
     "name": "stdout",
     "output_type": "stream",
     "text": [
      "ultimo\n"
     ]
    }
   ],
   "source": [
    "#else \n",
    "if 1 > 2:\n",
    "    print(\"Primero\")\n",
    "else:\n",
    "    print(\"ultimo\")"
   ]
  },
  {
   "cell_type": "code",
   "execution_count": 32,
   "id": "696e79a9",
   "metadata": {},
   "outputs": [
    {
     "name": "stdout",
     "output_type": "stream",
     "text": [
      "medio\n"
     ]
    }
   ],
   "source": [
    "#elif\n",
    "if 1 == 2:\n",
    "    print(\"Primero\")\n",
    "elif 3 == 3:\n",
    "    print(\"medio\")\n",
    "else:\n",
    "    print(\"ultimo\")"
   ]
  },
  {
   "cell_type": "markdown",
   "id": "581c6d3c",
   "metadata": {},
   "source": [
    "## for Loops \n"
   ]
  },
  {
   "cell_type": "code",
   "execution_count": 33,
   "id": "40d4469c",
   "metadata": {},
   "outputs": [],
   "source": [
    "seq = [1,2,3,4,5]"
   ]
  },
  {
   "cell_type": "code",
   "execution_count": 34,
   "id": "537b6311",
   "metadata": {},
   "outputs": [
    {
     "name": "stdout",
     "output_type": "stream",
     "text": [
      "1\n",
      "2\n",
      "3\n",
      "4\n",
      "5\n"
     ]
    }
   ],
   "source": [
    "for objeto in seq:\n",
    "    print(objeto)"
   ]
  },
  {
   "cell_type": "code",
   "execution_count": 35,
   "id": "af02ab8f",
   "metadata": {},
   "outputs": [
    {
     "name": "stdout",
     "output_type": "stream",
     "text": [
      "Sip\n",
      "Sip\n",
      "Sip\n",
      "Sip\n",
      "Sip\n"
     ]
    }
   ],
   "source": [
    "for item in seq:\n",
    "    print('Sip')"
   ]
  },
  {
   "cell_type": "code",
   "execution_count": 42,
   "id": "36a5ecf1",
   "metadata": {},
   "outputs": [],
   "source": [
    "personas = {\n",
    "    'juan': {'edad': 30,'ciudad':'Madrid'},\n",
    "    'juana': {'edad': 22,'ciudad':'Madrid'},\n",
    "    'pedro': {'edad': 22,'ciudad':'Madrid'},\n",
    "    'alan': {'edad': 22,'ciudad':'Madrid'}\n",
    "}"
   ]
  },
  {
   "cell_type": "code",
   "execution_count": 43,
   "id": "d25b0701",
   "metadata": {},
   "outputs": [],
   "source": [
    "#seq = {'nombre':'Juan','edad': 30, 'ciudad':'Madrid'}"
   ]
  },
  {
   "cell_type": "code",
   "execution_count": 46,
   "id": "0a6f02f1",
   "metadata": {},
   "outputs": [
    {
     "name": "stdout",
     "output_type": "stream",
     "text": [
      "juan {'edad': 30, 'ciudad': 'Madrid'}\n",
      "juana {'edad': 22, 'ciudad': 'Madrid'}\n",
      "pedro {'edad': 22, 'ciudad': 'Madrid'}\n",
      "alan {'edad': 22, 'ciudad': 'Madrid'}\n"
     ]
    }
   ],
   "source": [
    "for key in personas:\n",
    "    print(key,personas[key])"
   ]
  },
  {
   "cell_type": "markdown",
   "id": "1fa7d85b",
   "metadata": {},
   "source": [
    "# while Loops "
   ]
  },
  {
   "cell_type": "code",
   "execution_count": 50,
   "id": "15fd1d68",
   "metadata": {},
   "outputs": [
    {
     "name": "stdout",
     "output_type": "stream",
     "text": [
      "i es: 1\n",
      "i es: 2\n",
      "i es: 3\n",
      "i es: 4\n",
      "i es: 5\n"
     ]
    }
   ],
   "source": [
    "i = 1\n",
    "while i <= 5:\n",
    "    print('i es: {}'.format(i))\n",
    "    i += 1"
   ]
  },
  {
   "cell_type": "code",
   "execution_count": 51,
   "id": "c537814c",
   "metadata": {},
   "outputs": [
    {
     "name": "stdout",
     "output_type": "stream",
     "text": [
      "i es: 1\n",
      "i es: 2\n",
      "i es: 3\n",
      "i es: 4\n",
      "i es: 5\n"
     ]
    }
   ],
   "source": [
    "i = 1\n",
    "while i <= 5:\n",
    "    print(f'i es: {i}')\n",
    "    i += 1"
   ]
  },
  {
   "cell_type": "code",
   "execution_count": null,
   "id": "0ad37425",
   "metadata": {},
   "outputs": [],
   "source": [
    " i += 1 #equivalente \n",
    "i = i + 1"
   ]
  },
  {
   "cell_type": "markdown",
   "id": "3df41456",
   "metadata": {},
   "source": [
    "# range()"
   ]
  },
  {
   "cell_type": "code",
   "execution_count": 52,
   "id": "89826578",
   "metadata": {},
   "outputs": [
    {
     "data": {
      "text/plain": [
       "range(0, 5)"
      ]
     },
     "execution_count": 52,
     "metadata": {},
     "output_type": "execute_result"
    }
   ],
   "source": [
    "range(5) # retorna un lista de numeros de forma consecutiva "
   ]
  },
  {
   "cell_type": "code",
   "execution_count": 54,
   "id": "a7ef4d0c",
   "metadata": {},
   "outputs": [
    {
     "name": "stdout",
     "output_type": "stream",
     "text": [
      "0\n",
      "1\n",
      "2\n",
      "3\n",
      "4\n",
      "5\n"
     ]
    }
   ],
   "source": [
    "for i in range(6):\n",
    "    print(i)"
   ]
  },
  {
   "cell_type": "markdown",
   "id": "d3de6623",
   "metadata": {},
   "source": [
    "# Listas comprensivas \n",
    "Listas comprensivas nos permiten crear listas avanzadas en una misma linea de codigo "
   ]
  },
  {
   "cell_type": "markdown",
   "id": "043a85bc",
   "metadata": {},
   "source": [
    "x = [1,2,3,4]"
   ]
  },
  {
   "cell_type": "markdown",
   "id": "2e1d5a2e",
   "metadata": {},
   "source": [
    "# Funciones "
   ]
  },
  {
   "cell_type": "code",
   "execution_count": 59,
   "id": "9eb2e02a",
   "metadata": {},
   "outputs": [],
   "source": [
    "def suma_de_dos_numeros(a,b):\n",
    "    \"\"\"\n",
    "documentacion: la suma de dos numeros\n",
    "    \"\"\"\n",
    "    return a + b"
   ]
  },
  {
   "cell_type": "code",
   "execution_count": 60,
   "id": "20365928",
   "metadata": {},
   "outputs": [
    {
     "data": {
      "text/plain": [
       "20"
      ]
     },
     "execution_count": 60,
     "metadata": {},
     "output_type": "execute_result"
    }
   ],
   "source": [
    "suma_de_dos_numeros(12,8)"
   ]
  },
  {
   "cell_type": "code",
   "execution_count": 61,
   "id": "5c809505",
   "metadata": {},
   "outputs": [
    {
     "data": {
      "text/plain": [
       "733"
      ]
     },
     "execution_count": 61,
     "metadata": {},
     "output_type": "execute_result"
    }
   ],
   "source": [
    "suma_de_dos_numeros(500,233)"
   ]
  },
  {
   "cell_type": "code",
   "execution_count": null,
   "id": "5ec99c3f",
   "metadata": {},
   "outputs": [],
   "source": [
    "print()"
   ]
  },
  {
   "cell_type": "markdown",
   "id": "52fb1ffe",
   "metadata": {},
   "source": [
    "# Map"
   ]
  },
  {
   "cell_type": "code",
   "execution_count": 63,
   "id": "15510597",
   "metadata": {},
   "outputs": [],
   "source": [
    "def mi_funcion(param1='predeterminado'):\n",
    "    \"\"\"\n",
    "    Documentacion va aqui\n",
    "    \"\"\"\n",
    "    return print(param1)"
   ]
  },
  {
   "cell_type": "code",
   "execution_count": 64,
   "id": "5e7cf4a9",
   "metadata": {
    "scrolled": true
   },
   "outputs": [
    {
     "data": {
      "text/plain": [
       "<function __main__.mi_funcion(param1='predeterminado')>"
      ]
     },
     "execution_count": 64,
     "metadata": {},
     "output_type": "execute_result"
    }
   ],
   "source": [
    "mi_funcion"
   ]
  },
  {
   "cell_type": "code",
   "execution_count": 65,
   "id": "dccb5485",
   "metadata": {},
   "outputs": [
    {
     "name": "stdout",
     "output_type": "stream",
     "text": [
      "nuevo parametro\n"
     ]
    }
   ],
   "source": [
    "mi_funcion('nuevo parametro')"
   ]
  },
  {
   "cell_type": "code",
   "execution_count": 66,
   "id": "d3cbfdf2",
   "metadata": {},
   "outputs": [],
   "source": [
    "def cuadrado(x):\n",
    "    return x**2"
   ]
  },
  {
   "cell_type": "code",
   "execution_count": 71,
   "id": "0def9595",
   "metadata": {},
   "outputs": [],
   "source": [
    "numeros = [1,2,3,4,5]\n",
    "resultados = map(cuadrado,numeros)\n",
    "lista = list(resultados)"
   ]
  },
  {
   "cell_type": "code",
   "execution_count": 72,
   "id": "5282b846",
   "metadata": {},
   "outputs": [
    {
     "name": "stdout",
     "output_type": "stream",
     "text": [
      "[1, 4, 9, 16, 25]\n"
     ]
    }
   ],
   "source": [
    "print(lista)"
   ]
  },
  {
   "cell_type": "code",
   "execution_count": 67,
   "id": "6aa00b59",
   "metadata": {},
   "outputs": [
    {
     "data": {
      "text/plain": [
       "36"
      ]
     },
     "execution_count": 67,
     "metadata": {},
     "output_type": "execute_result"
    }
   ],
   "source": [
    "cuadrado(6)"
   ]
  },
  {
   "cell_type": "code",
   "execution_count": null,
   "id": "05c1640d",
   "metadata": {},
   "outputs": [],
   "source": [
    "seq = [1,2,3,4,5]"
   ]
  },
  {
   "cell_type": "markdown",
   "id": "c315569e",
   "metadata": {},
   "source": [
    "# Problema final "
   ]
  },
  {
   "cell_type": "markdown",
   "id": "c3bd61eb",
   "metadata": {},
   "source": [
    "Estas conduciendo demasiado rapido y un oficial te detiene. Crea una funcion para devolver uno de los 3 resultados posibles: \"Sin ticket\",\"Ticket Pequeño\", \"Ticket grande\". Si su velocidad es de 60 o menos el resultado es \"Sin Ticket\". Si la velocidad esta entre 61 y 80 inclusive es \"Ticket Pequeño\".Si la velocidad es 81 o mas, el resultado es \"Ticket grande\". A menos que sea su cumpleaños, su velocidad puede que se evalue , su velocidad menos 5 millas por hora."
   ]
  },
  {
   "cell_type": "code",
   "execution_count": null,
   "id": "3293d400",
   "metadata": {},
   "outputs": [],
   "source": []
  }
 ],
 "metadata": {
  "kernelspec": {
   "display_name": "Python 3 (ipykernel)",
   "language": "python",
   "name": "python3"
  },
  "language_info": {
   "codemirror_mode": {
    "name": "ipython",
    "version": 3
   },
   "file_extension": ".py",
   "mimetype": "text/x-python",
   "name": "python",
   "nbconvert_exporter": "python",
   "pygments_lexer": "ipython3",
   "version": "3.11.5"
  }
 },
 "nbformat": 4,
 "nbformat_minor": 5
}
